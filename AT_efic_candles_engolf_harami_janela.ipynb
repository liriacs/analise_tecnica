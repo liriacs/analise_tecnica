{
  "nbformat": 4,
  "nbformat_minor": 0,
  "metadata": {
    "colab": {
      "provenance": [],
      "collapsed_sections": [],
      "authorship_tag": "ABX9TyMmFwsU/RyQ/jEejFOuiLGx",
      "include_colab_link": true
    },
    "kernelspec": {
      "name": "python3",
      "display_name": "Python 3"
    },
    "language_info": {
      "name": "python"
    }
  },
  "cells": [
    {
      "cell_type": "markdown",
      "metadata": {
        "id": "view-in-github",
        "colab_type": "text"
      },
      "source": [
        "<a href=\"https://colab.research.google.com/github/liriacs/analise_tecnica/blob/main/AT_efic_candles_engolf_harami_janela.ipynb\" target=\"_parent\"><img src=\"https://colab.research.google.com/assets/colab-badge.svg\" alt=\"Open In Colab\"/></a>"
      ]
    },
    {
      "cell_type": "code",
      "execution_count": null,
      "metadata": {
        "id": "AiCjSEaaxh5c",
        "colab": {
          "base_uri": "https://localhost:8080/"
        },
        "outputId": "4f7dd069-f2d4-4aee-dee0-fade90e1bc73"
      },
      "outputs": [
        {
          "output_type": "stream",
          "name": "stdout",
          "text": [
            "Looking in indexes: https://pypi.org/simple, https://us-python.pkg.dev/colab-wheels/public/simple/\n",
            "Collecting yfinance\n",
            "  Downloading yfinance-0.1.74-py2.py3-none-any.whl (27 kB)\n",
            "Requirement already satisfied: numpy>=1.15 in /usr/local/lib/python3.7/dist-packages (from yfinance) (1.21.6)\n",
            "Requirement already satisfied: multitasking>=0.0.7 in /usr/local/lib/python3.7/dist-packages (from yfinance) (0.0.11)\n",
            "Requirement already satisfied: pandas>=0.24.0 in /usr/local/lib/python3.7/dist-packages (from yfinance) (1.3.5)\n",
            "Collecting requests>=2.26\n",
            "  Downloading requests-2.28.1-py3-none-any.whl (62 kB)\n",
            "\u001b[K     |████████████████████████████████| 62 kB 1.4 MB/s \n",
            "\u001b[?25hRequirement already satisfied: lxml>=4.5.1 in /usr/local/lib/python3.7/dist-packages (from yfinance) (4.9.1)\n",
            "Requirement already satisfied: python-dateutil>=2.7.3 in /usr/local/lib/python3.7/dist-packages (from pandas>=0.24.0->yfinance) (2.8.2)\n",
            "Requirement already satisfied: pytz>=2017.3 in /usr/local/lib/python3.7/dist-packages (from pandas>=0.24.0->yfinance) (2022.2.1)\n",
            "Requirement already satisfied: six>=1.5 in /usr/local/lib/python3.7/dist-packages (from python-dateutil>=2.7.3->pandas>=0.24.0->yfinance) (1.15.0)\n",
            "Requirement already satisfied: idna<4,>=2.5 in /usr/local/lib/python3.7/dist-packages (from requests>=2.26->yfinance) (2.10)\n",
            "Requirement already satisfied: urllib3<1.27,>=1.21.1 in /usr/local/lib/python3.7/dist-packages (from requests>=2.26->yfinance) (1.24.3)\n",
            "Requirement already satisfied: certifi>=2017.4.17 in /usr/local/lib/python3.7/dist-packages (from requests>=2.26->yfinance) (2022.6.15)\n",
            "Requirement already satisfied: charset-normalizer<3,>=2 in /usr/local/lib/python3.7/dist-packages (from requests>=2.26->yfinance) (2.1.1)\n",
            "Installing collected packages: requests, yfinance\n",
            "  Attempting uninstall: requests\n",
            "    Found existing installation: requests 2.23.0\n",
            "    Uninstalling requests-2.23.0:\n",
            "      Successfully uninstalled requests-2.23.0\n",
            "Successfully installed requests-2.28.1 yfinance-0.1.74\n"
          ]
        }
      ],
      "source": [
        "!pip install yfinance \n",
        "import yfinance as yf"
      ]
    },
    {
      "cell_type": "code",
      "source": [
        "import pandas as pd\n",
        "import numpy as np\n",
        "#import matplotlib.pyplot as plt\n",
        "#import matplotlib.dates as mdates"
      ],
      "metadata": {
        "id": "G-53qEnumWhA"
      },
      "execution_count": null,
      "outputs": []
    },
    {
      "cell_type": "code",
      "source": [
        "#esta biblioteca vem do video de investimento com ia e python - medias\n",
        "#!pip install mpl_finance\n",
        "#from mpl_finance import candlestick_ohlc"
      ],
      "metadata": {
        "id": "9_mOtlR6dW7A"
      },
      "execution_count": null,
      "outputs": []
    },
    {
      "cell_type": "code",
      "execution_count": null,
      "metadata": {
        "id": "7GTeAWuRXxlQ",
        "colab": {
          "base_uri": "https://localhost:8080/"
        },
        "outputId": "0c027a20-b688-4f54-ef7e-c89e03795eaa"
      },
      "outputs": [
        {
          "output_type": "stream",
          "name": "stdout",
          "text": [
            "\r[*********************100%***********************]  1 of 1 completed\n"
          ]
        }
      ],
      "source": [
        "'''baixar dados desde dez/2020 para que seja possivel calcular a media desde o inicio de janeiro de 2021'''\n",
        "data = yf.download(\"petr4.SA\", start=\"2019-12-01\", end=\"2022-01-15\")\n",
        "#data"
      ]
    },
    {
      "cell_type": "code",
      "source": [
        "data_teste = data\n",
        "data_aux = data.copy()\n"
      ],
      "metadata": {
        "id": "bs6fnJ6InLA6"
      },
      "execution_count": null,
      "outputs": []
    },
    {
      "cell_type": "code",
      "source": [
        "#obv\n",
        "\n",
        "obv = []\n",
        "obv_aux = data_teste['Volume'][0]\n",
        "obv.append(obv_aux)\n",
        "for i in range(1,len(data_teste)):\n",
        "  #print(data_teste.index[i])\n",
        "  if (data_teste['Close'][i] > data_teste['Close'][i-1]):\n",
        "    obv_aux = obv_aux + data_teste['Volume'][i]\n",
        "  elif (data_teste['Close'][i] < data_teste['Close'][i-1]):\n",
        "    obv_aux = obv_aux - data_teste['Volume'][i]\n",
        "  obv.append(obv_aux)\n",
        "data_teste['obv_teste'] = obv\n",
        "data_aux['obv_teste'] = obv\n",
        "\n",
        "#data_teste.head()\n"
      ],
      "metadata": {
        "id": "uMHdZRGSb3Yj"
      },
      "execution_count": null,
      "outputs": []
    },
    {
      "cell_type": "code",
      "source": [
        "#medias\n",
        "data_teste[\"MME8\"] = data_teste[\"Close\"].ewm(span=8, min_periods=8).mean()\n",
        "data_teste[\"MME20\"] = data_teste[\"Close\"].ewm(span=20, min_periods=20).mean()\n",
        "#data_teste[\"MME20vol\"] = data_teste[\"Volume\"].ewm(span=20, min_periods=20).mean()\n",
        "#data_teste[\"MME8vol\"] = data_teste[\"Volume\"].ewm(span=8, min_periods=8).mean()\n",
        "#data_teste[\"MME8obv\"] = data_teste[\"OBV Change\"].ewm(span=8, min_periods=8).mean()\n",
        "#data_teste[\"MME20obv\"] = data_teste[\"OBV Change\"].ewm(span=20, min_periods=20).mean()"
      ],
      "metadata": {
        "id": "edQBdUSQqHYB"
      },
      "execution_count": null,
      "outputs": []
    },
    {
      "cell_type": "code",
      "source": [
        "#tentando identificar topo no obv\n",
        "topos_obv = []\n",
        "sentido = []\n",
        "penult_topo = data_teste[\"obv_teste\"][0]\n",
        "ultimo_topo = data_teste[\"obv_teste\"][0]\n",
        "sentido_aux = ''\n",
        "for i in range(len(data_teste)-1):\n",
        "  #sentido_aux = ''\n",
        "  if data_teste[\"obv_teste\"][i-1] < data_teste[\"obv_teste\"][i] > data_teste[\"obv_teste\"][i+1]:\n",
        "    penult_topo = ultimo_topo\n",
        "    ultimo_topo = data_teste[\"obv_teste\"][i]\n",
        "    if penult_topo < ultimo_topo:\n",
        "      sentido_aux = 'ASC'\n",
        "    elif penult_topo > ultimo_topo:\n",
        "      sentido_aux = 'DESC'\n",
        "    elif penult_topo == ultimo_topo:\n",
        "      sentido_aux = 'LAT'\n",
        "  topos_obv.append(ultimo_topo)\n",
        "  sentido.append(sentido_aux)\n",
        "  #print(data_teste.index[i], ultimo_topo)\n",
        "\n",
        "for i in range(len(data_teste)-1, len(data_teste)):\n",
        "  topos_obv.append(ultimo_topo)\n",
        "  sentido.append(sentido_aux)\n",
        "\n",
        "#data_teste['topos_obv'] = topos_obv\n",
        "data_teste['sentido_obv'] = sentido\n",
        "data_aux['sentido_obv'] = sentido"
      ],
      "metadata": {
        "id": "eYoqC6kOJhda"
      },
      "execution_count": null,
      "outputs": []
    },
    {
      "cell_type": "code",
      "source": [
        "#Identificando topo do preço.\n",
        "topos_preco = []\n",
        "sentido_preco = []\n",
        "penult_topo_pr = max([data_teste['Close'][0], data_teste['Open'][0]])\n",
        "ultimo_topo_pr = max([data_teste['Close'][0], data_teste['Open'][0]])\n",
        "sentido_aux_pr = ''\n",
        "for i in range(len(data_teste)-1):\n",
        "  #sentido_aux_pr = ''\n",
        "  #if data_teste[\"Close\"][i-2] < data_teste[\"Close\"][i-1]  < data_teste[\"Close\"][i] > data_teste[\"Close\"][i+1]:\n",
        "  consid0 = max([data_teste['Close'][i-2], data_teste['Open'][i-2]])\n",
        "  consid1 = max([data_teste['Close'][i-1], data_teste['Open'][i-1]])\n",
        "  consid2 = max([data_teste['Close'][i], data_teste['Open'][i]])\n",
        "  consid3 = max([data_teste['Close'][i+1], data_teste['Open'][i+1]])\n",
        "  \n",
        "\n",
        "  #e se usar o valor maximo?\n",
        "  '''\n",
        "  # tem ponto que nao vai dar certo, pq o maximo do candle i+1 é maior. entretanto, é um topo\n",
        "  consid0 = data_teste['High'][i-2]\n",
        "  consid1 = data_teste['High'][i-1]\n",
        "  consid2 = data_teste['High'][i]\n",
        "  consid3 = data_teste['High'][i+1]\n",
        "  '''\n",
        "\n",
        "  '''\n",
        "  # e se usar o maximo só em i?\n",
        "  #tbm nao ficou mto bom. qdo tem varios candles formando um topo, acaba nao identificando\n",
        "  consid0 = max([data_teste['Close'][i-2], data_teste['Open'][i-2]])\n",
        "  consid1 = max([data_teste['Close'][i-1], data_teste['Open'][i-1]])\n",
        "  consid2 = data_teste['High'][i]\n",
        "  consid3 = max([data_teste['Close'][i+1], data_teste['Open'][i+1]])\n",
        "  '''\n",
        "\n",
        "  if consid0 < consid1  < consid2 >= consid3:\n",
        "    penult_topo_pr = ultimo_topo_pr\n",
        "    ultimo_topo_pr = consid2 #max(abertura, fechamento)[i]\n",
        "    variacao = ultimo_topo_pr / penult_topo_pr\n",
        "    \n",
        "    '''if penult_topo_pr < ultimo_topo_pr:\n",
        "      sentido_aux_pr = 'ASC'\n",
        "    elif penult_topo_pr > ultimo_topo_pr:\n",
        "      sentido_aux_pr = 'DESC'\n",
        "    elif penult_topo_pr == ultimo_topo_pr:\n",
        "      sentido_aux_pr = 'LAT'\n",
        "      '''\n",
        "    #if 0.9895 < variacao < 1.0105:\n",
        "    if 0.9979 < variacao < 1.0021:\n",
        "      sentido_aux_pr = 'LAT'\n",
        "    elif penult_topo_pr < ultimo_topo_pr and variacao > 1.0021:\n",
        "      sentido_aux_pr = 'ASC'\n",
        "    elif penult_topo_pr > ultimo_topo_pr and variacao < 0.9979:\n",
        "      sentido_aux_pr = 'DESC'\n",
        "    #print('data ', data_teste.index[i], 'penult ', penult_topo_pr, ' ultimo ', ultimo_topo_pr, ' sentido ', sentido_aux_pr)\n",
        "  topos_preco.append(ultimo_topo_pr)\n",
        "  sentido_preco.append(sentido_aux_pr)\n",
        "  #print(data_teste.index[i], ultimo_topo)\n",
        "  #if 25 < i <58:\n",
        "    #print(i, data_teste.index[i], 'penultimo ', penult_topo_pr, ' ultimo ', ultimo_topo_pr, 'var ' , variacao)\n",
        "\n",
        "for i in range(len(data_teste)-1, len(data_teste)):\n",
        "  topos_preco.append(ultimo_topo_pr)\n",
        "  sentido_preco.append(sentido_aux_pr)\n",
        "\n",
        "data_teste['topos_preco'] = topos_preco\n",
        "data_teste['sentido_topos_preco'] = sentido_preco\n",
        "\n",
        "data_aux['topos_preco'] = topos_preco\n",
        "data_aux['sentido_topos_preco'] = sentido_preco"
      ],
      "metadata": {
        "id": "1hjaS7d9e1xf"
      },
      "execution_count": null,
      "outputs": []
    },
    {
      "cell_type": "code",
      "source": [
        "#funcoes que buscam os padroes de candles\n",
        "def func_j_alta(x):\n",
        "  if (data_teste['Low'][x] > data_teste['High'][x-1] + 0.3 ):\n",
        "    j_alta.append('sim')\n",
        "  else:\n",
        "    j_alta.append('não')\n",
        "\n",
        "def func_j_baixa(x):\n",
        "  if (data_teste['High'][x] < data_teste['Low'][x-1] + 0.3 ):\n",
        "    #print('gap baixa')\n",
        "    J_baixa.append('sim')\n",
        "  else:\n",
        "    #print('não')\n",
        "    J_baixa.append('não')\n",
        "\n",
        "def func_eng_alta(i):\n",
        "  if(\n",
        "    #PF1<PA1\n",
        "    (data_teste['Close'][i-1] < data_teste['Open'][i-1])\n",
        "    and \n",
        "    # PF2>PA2\n",
        "    (data_teste['Close'][i] > data_teste['Open'][i])\n",
        "    and\n",
        "    #PF2>PA1\n",
        "    (data_teste['Close'][i] > data_teste['Open'][i-1])\n",
        "    and\n",
        "    #PA2<PF1\n",
        "    (data_teste['Open'][i]  < data_teste['Close'][i-1])\n",
        "    and \n",
        "    #(PF2-PA2)/(PA1-PF1)>2\n",
        "     ((data_teste['Close'][i] - data_teste['Open'][i] ) / (data_teste['Open'][i-1] - data_teste['Close'][i-1]) > 2)\n",
        "    and \n",
        "    #(MA2-ME2)>(MA1-ME1)\n",
        "    ((data_teste['High'][i]  - data_teste['Low'][i]) > ( data_teste['High'][i-1]  - data_teste['Low'][i-1] ))\n",
        "  ):\n",
        "    #print(data_teste.index[i], 'sim')\n",
        "    Eng_alta.append('sim')\n",
        "  else:\n",
        "    #print(data_teste.index[i], 'nao')\n",
        "    Eng_alta.append('não')\n",
        "\n",
        "def func_eng_baixa(i):\n",
        "  if(\n",
        "     #PF1>PA1\n",
        "     data_teste['Close'][i-1] > data_teste['Open'][i-1]\n",
        "     and\n",
        "     #PF2<PA2\n",
        "     data_teste['Close'][i] < data_teste['Open'][i] \n",
        "     and\n",
        "     #PF2<PA1\n",
        "     data_teste['Close'][i] < data_teste['Open'][i-1]\n",
        "     and\n",
        "     #PA2>PF1\n",
        "     data_teste['Open'][i]  > data_teste['Close'][i-1]\n",
        "     and\n",
        "     #(PA2-PF2)/(PF1-PA1)>2\n",
        "     ((data_teste['Open'][i]  - data_teste['Close'][i]) / (data_teste['Close'][i-1] - data_teste['Open'][i-1] ) ) > 2\n",
        "     and\n",
        "     #(MA2-ME2)>(MA1-ME1)\n",
        "     (data_teste['High'][i] - data_teste['Low'][i] ) > (data_teste['High'][i-1]  - data_teste['Low'][i-1] )\n",
        "  ):\n",
        "    #print(data_teste.index[i], 'sim')\n",
        "    Eng_baixa.append('sim')\n",
        "  else:\n",
        "    #print(data_teste.index[i], 'nao')\n",
        "    Eng_baixa.append('não')\n",
        "\n",
        "def func_h_topo(i):\n",
        "  if(\n",
        "      #[PA1 < PF1]\n",
        "     data_teste['Open'][i-1] <  data_teste['Close'][i-1]\n",
        "     and \n",
        "     #[PF2 < PF1 ]\n",
        "     data_teste['Close'][i] <  data_teste['Close'][i-1]\n",
        "     and\n",
        "     #[PA2 > PA1]\n",
        "     data_teste['Open'][i]  > data_teste['Open'][i-1]\n",
        "     and \n",
        "     #[(Pa2 - pf2)*3   <= (PF1 – PA1) >= (Pf2-Pa2) * 3]\n",
        "     (\n",
        "     ((data_teste['Close'][i-1] - data_teste['Open'][i-1]) / (data_teste['Open'][i]  - data_teste['Close'][i]) ) >= 3.0\n",
        "     or \n",
        "     ((data_teste['Close'][i-1] - data_teste['Open'][i-1]) / (data_teste['Open'][i]  - data_teste['Close'][i]) ) <= -3.0\n",
        "     )\n",
        "  ):\n",
        "    #print(data_teste.index[i], 'sim')\n",
        "    Harami_topo.append('sim')\n",
        "  else:\n",
        "    Harami_topo.append('não')\n",
        "\n",
        "def func_h_fundo(i):\n",
        "  if(\n",
        "      #[PA1 > PF1]\n",
        "     data_teste['Open'][i-1] >  data_teste['Close'][i-1]\n",
        "     and \n",
        "     #[PF2 > PF1 ]\n",
        "     data_teste['Close'][i] >  data_teste['Close'][i-1]\n",
        "     and\n",
        "     #[PA2 < PA1]\n",
        "     data_teste['Open'][i]  < data_teste['Open'][i-1]\n",
        "     and \n",
        "     #[(Pa2 - pf2)*3   <= (PF1 – PA1) >= (Pf2-Pa2) * 3]\n",
        "     (\n",
        "     ((data_teste['Close'][i-1] - data_teste['Open'][i-1]) / (data_teste['Open'][i]  - data_teste['Close'][i]) ) >= 3.0\n",
        "     or \n",
        "     ((data_teste['Close'][i-1] - data_teste['Open'][i-1]) / (data_teste['Open'][i]  - data_teste['Close'][i]) ) <= -3.0\n",
        "     )\n",
        "  ):\n",
        "    #print(data_teste.index[i], 'sim')\n",
        "    Harami_fundo.append('sim')\n",
        "  else:\n",
        "    Harami_fundo.append('não')\n",
        "\n",
        "\n",
        "j_alta = []\n",
        "J_baixa = []\n",
        "Eng_alta = []\n",
        "Eng_baixa = []\n",
        "Harami_topo = []\n",
        "Harami_fundo = []\n",
        "\n",
        "#verificacao\n",
        "for i in range(len(data_teste)):\n",
        "  #janela de alta\n",
        "  #print(i)\n",
        "  func_j_alta(i)\n",
        "  func_j_baixa(i)\n",
        "  func_eng_alta(i)\n",
        "  func_eng_baixa(i)\n",
        "  func_h_topo(i)\n",
        "  func_h_fundo(i)\n",
        "\n",
        "\n",
        "\n",
        "#adiciona os resultados da verificacao ao df\n",
        "\n",
        "data_teste['J_alta'] = j_alta\n",
        "data_teste['J_baixa'] = J_baixa\n",
        "data_teste['Eng_alta'] = Eng_alta\n",
        "data_teste['Eng_baixa'] = Eng_baixa\n",
        "data_teste['Harami_topo'] = Harami_topo\n",
        "data_teste['Harami_fundo'] = Harami_fundo\n",
        "\n",
        "#data_teste\n"
      ],
      "metadata": {
        "id": "uug6WpoYk9Uc",
        "colab": {
          "base_uri": "https://localhost:8080/"
        },
        "outputId": "da848c63-0892-42af-fff4-d219738ef0a5"
      },
      "execution_count": null,
      "outputs": [
        {
          "output_type": "stream",
          "name": "stderr",
          "text": [
            "/usr/local/lib/python3.7/dist-packages/ipykernel_launcher.py:81: RuntimeWarning: divide by zero encountered in double_scalars\n",
            "/usr/local/lib/python3.7/dist-packages/ipykernel_launcher.py:104: RuntimeWarning: divide by zero encountered in double_scalars\n",
            "/usr/local/lib/python3.7/dist-packages/ipykernel_launcher.py:106: RuntimeWarning: divide by zero encountered in double_scalars\n"
          ]
        }
      ]
    },
    {
      "cell_type": "code",
      "source": [
        "'''x = data_teste.index\n",
        "y1 = data_teste['obv_teste']\n",
        "y2 = data_teste['MMA_8_obvteste']\n",
        "y3 = data_teste['MMA_20_obvteste']\n",
        "plt.rcParams['figure.figsize'] = (20,7)\n",
        "plt.plot(x, y1) \n",
        "plt.plot(x, y2)\n",
        "plt.plot(x, y3)\n",
        "plt.xlabel('x - axis') \n",
        "plt.ylabel('y1 - axis') \n",
        "plt.title('My first graph!') \n",
        "plt.show() '''\n",
        "\n",
        "##\n",
        "\n",
        "'''\n",
        "x = data_teste.index\n",
        "y2 = data_teste['OBV']\n",
        "plt.plot(x, y2) \n",
        "plt.xlabel('x - axis') \n",
        "plt.ylabel('y2 - axis') \n",
        "plt.title('My first graph!') \n",
        "plt.show() '''"
      ],
      "metadata": {
        "id": "Hcn03SIB5d9s",
        "colab": {
          "base_uri": "https://localhost:8080/",
          "height": 53
        },
        "outputId": "74b1be81-0655-4446-914d-f3cc10846748"
      },
      "execution_count": null,
      "outputs": [
        {
          "output_type": "execute_result",
          "data": {
            "text/plain": [
              "\"\\nx = data_teste.index\\ny2 = data_teste['OBV']\\nplt.plot(x, y2) \\nplt.xlabel('x - axis') \\nplt.ylabel('y2 - axis') \\nplt.title('My first graph!') \\nplt.show() \""
            ],
            "application/vnd.google.colaboratory.intrinsic+json": {
              "type": "string"
            }
          },
          "metadata": {},
          "execution_count": 11
        }
      ]
    },
    {
      "cell_type": "code",
      "source": [
        "'''nao sei se quero usar esta forma de identificar a tendencia. eu disse na metodologia, que iria ver se a media 08 é maior ou menor que a media 20. entao é assim que devo fazer\n",
        "\n",
        "\n",
        "tendencia = []\n",
        "\n",
        "for i in range(len(data_teste)):\n",
        "#for i in range(0,38):\n",
        "  tendencia_alta = 1\n",
        "  for j in range(6):\n",
        "    if(data_teste['MME21'][i-1] < data_teste['MME21'][i-2]):\n",
        "      tendencia_alta = 0\n",
        "  #print(tendencia_alta)\n",
        "\n",
        "  tendencia_baixa = 1\n",
        "  for j in range(6):\n",
        "    if(data_teste['MME21'][i-1] > data_teste['MME21'][i-2]):\n",
        "      tendencia_baixa = 0\n",
        "\n",
        "  if tendencia_alta == 1:\n",
        "    tendencia.append('TA')\n",
        "  elif tendencia_baixa == 1:\n",
        "    tendencia.append('TB')\n",
        "  else:\n",
        "    tendencia.append('Lat')\n",
        "\n",
        "\n",
        "data_teste['Tendencia'] = tendencia\n",
        "\n",
        "'''"
      ],
      "metadata": {
        "id": "TtOThVlCq-25",
        "colab": {
          "base_uri": "https://localhost:8080/",
          "height": 105
        },
        "outputId": "07081619-1c0c-4df3-8df1-37bcf6ff9604"
      },
      "execution_count": null,
      "outputs": [
        {
          "output_type": "execute_result",
          "data": {
            "text/plain": [
              "\"nao sei se quero usar esta forma de identificar a tendencia. eu disse na metodologia, que iria ver se a media 08 é maior ou menor que a media 20. entao é assim que devo fazer\\n\\n\\ntendencia = []\\n\\nfor i in range(len(data_teste)):\\n#for i in range(0,38):\\n  tendencia_alta = 1\\n  for j in range(6):\\n    if(data_teste['MME21'][i-1] < data_teste['MME21'][i-2]):\\n      tendencia_alta = 0\\n  #print(tendencia_alta)\\n\\n  tendencia_baixa = 1\\n  for j in range(6):\\n    if(data_teste['MME21'][i-1] > data_teste['MME21'][i-2]):\\n      tendencia_baixa = 0\\n\\n  if tendencia_alta == 1:\\n    tendencia.append('TA')\\n  elif tendencia_baixa == 1:\\n    tendencia.append('TB')\\n  else:\\n    tendencia.append('Lat')\\n\\n\\ndata_teste['Tendencia'] = tendencia\\n\\n\""
            ],
            "application/vnd.google.colaboratory.intrinsic+json": {
              "type": "string"
            }
          },
          "metadata": {},
          "execution_count": 12
        }
      ]
    },
    {
      "cell_type": "code",
      "source": [
        "#Verificando coeficiente angular\n",
        "\n",
        "coef_ang = []\n",
        "tend_teste = []\n",
        "'''\n",
        "NA METODOLOGIA EU DISSE QUE UTILIZARIA A MEDIA DE 20 PERIODOS PARA CALCULO DO COEF ANGULAR\n",
        "for i in range(len(data_teste)):\n",
        "  #x = (y2-y1) / (x2-x1)\n",
        "  #y é  o preço e x é a data\n",
        "  vary = data_teste['Close'][i] - data_teste['Close'][i-6]\n",
        "  #varx = (data_teste.index[i]) - (data_teste.index[i-6])\n",
        "  varx = 6 # 6 periodos\n",
        "  x = vary / varx\n",
        "  coef_ang.append(x)\n",
        "  if  -0.4 < x < 0.4:\n",
        "    tend_teste.append('TL')\n",
        "  if x <= -0.4:\n",
        "    tend_teste.append('TB')\n",
        "  if x >= 0.4:\n",
        "    tend_teste.append('TA')\n",
        "'''\n",
        "\n",
        "for i in range(len(data_teste)):\n",
        "  #x = (y2-y1) / (x2-x1)\n",
        "  #y é  o preço e x é a data\n",
        "  vary = data_teste['MME20'][i] - data_teste['MME20'][i-6]\n",
        "  #varx = (data_teste.index[i]) - (data_teste.index[i-6])\n",
        "  varx = 6 # 6 periodos\n",
        "  x = vary / varx\n",
        "  coef_ang.append(x)\n",
        "  if  -0.1 < x < 0.1:\n",
        "    tend_teste.append('TL')\n",
        "  elif x <= -0.1 and data_teste['MME8'][i] < data_teste['MME20'][i]:\n",
        "    tend_teste.append('TB')\n",
        "  elif x >= 0.1 and data_teste['MME8'][i] > data_teste['MME20'][i]:\n",
        "    tend_teste.append('TA')\n",
        "  else:\n",
        "    tend_teste.append('NI')\n",
        "  #print('dia, ', data_teste.index[i], 'vary ', vary, ' vary/6 ', x, ' medias 8 e 20: ', data_teste['MME8'][i], data_teste['MME20'][i] )\n",
        "  \n",
        "data_teste['Coef_ang'] = coef_ang\n",
        "data_teste['tend_medias'] = tend_teste\n",
        "\n",
        "#data_aux['Coef_ang'] = coef_ang\n",
        "data_aux['tend_medias'] = tend_teste\n",
        "\n"
      ],
      "metadata": {
        "id": "L5u1R2rIueJ8"
      },
      "execution_count": null,
      "outputs": []
    },
    {
      "cell_type": "code",
      "source": [
        "'''mask = (data_teste.index >  '2020-07-01') & (data_teste.index <= '2020-11-30')\n",
        "filtered_df2=data_teste.loc[mask]\n",
        "filtered_df2.iloc[:,6:]\n",
        "#filtered_df2.iloc[:,22:]'''"
      ],
      "metadata": {
        "id": "Egy-XVWwq9Vi",
        "colab": {
          "base_uri": "https://localhost:8080/",
          "height": 53
        },
        "outputId": "cfe03d1e-eef0-4cbc-ee46-d7b54905e300"
      },
      "execution_count": null,
      "outputs": [
        {
          "output_type": "execute_result",
          "data": {
            "text/plain": [
              "\"mask = (data_teste.index >  '2020-07-01') & (data_teste.index <= '2020-11-30')\\nfiltered_df2=data_teste.loc[mask]\\nfiltered_df2.iloc[:,6:]\\n#filtered_df2.iloc[:,22:]\""
            ],
            "application/vnd.google.colaboratory.intrinsic+json": {
              "type": "string"
            }
          },
          "metadata": {},
          "execution_count": 14
        }
      ]
    },
    {
      "cell_type": "code",
      "source": [
        "#utilizar proxima celula pois na proxima terá o ajuste da validação considerando topos e fundos\n",
        "#Se sinal altista, verificar se está em tendencia de alta (através das médias), se Vol > MeanVol e se OBV > MeanOBV. estas serão as confirmações.\n",
        "\n",
        "'''\n",
        "tendencia = []\n",
        "validacao = []\n",
        "\n",
        "for i in range(len(data_teste)):\n",
        "  tend = 'TL'\n",
        "  #print(data_teste.index[i], data_teste[\"J_alta\"][i] == \"sim\",  data_teste[\"Harami_fundo\"][i], data_teste[\"Eng_alta\"][i])\n",
        "  verifica = \"nao\"\n",
        "  #padroes altistas\n",
        "  if(data_teste[\"J_alta\"][i] == \"sim\" or data_teste[\"Harami_fundo\"][i] == \"sim\" or data_teste[\"Eng_alta\"][i] == \"sim\"):\n",
        "    tend = 'TA'\n",
        "    #print(data_teste.index[i], \" padrao altista\", 'mme9 ', data_teste[\"MME9\"][i], 'mme21 ', data_teste[\"MME21\"][i])\n",
        "    if(data_teste[\"tend_teste\"][i] == \"TA\"):\n",
        "      #if(data_teste[\"MME8obv\"][i] > data_teste[\"MME20obv\"][i] ):\n",
        "      if(data_teste[\"OBV\"][i] > data_teste[\"MME20obv\"][i] ):\n",
        "        verifica = \"Sim, TA\"\n",
        "        \n",
        "  #padroes baixistas\n",
        "  if(data_teste[\"J_baixa\"][i] == \"sim\" or data_teste[\"Harami_topo\"][i] == \"sim\" or data_teste[\"Eng_baixa\"][i] == \"sim\"):\n",
        "    tend = 'TB'\n",
        "    #print(data_teste.index[i], \" padrao altista\", 'mme9 ', data_teste[\"MME9\"][i], 'mme21 ', data_teste[\"MME21\"][i])\n",
        "    if(data_teste[\"tend_teste\"][i] == \"TB\"):\n",
        "      #print(data_teste.index[i], \"Médias: Padrão altista com tendencia de Alta.\" )\n",
        "      #if(data_teste[\"MME8obv\"][i] < data_teste[\"MME20obv\"][i] ):\n",
        "      if(data_teste[\"OBV\"][i] < data_teste[\"MME20obv\"][i] ):\n",
        "        verifica = \"Sim, tB\"\n",
        "  validacao.append(verifica)\n",
        "  tendencia.append(tend)\n",
        "\n",
        "#print(validacao)\n",
        "data_teste[\"sinal confirmado\"] = validacao\n",
        "data_teste[\"tendencia\"] = tendencia\n",
        "\n",
        "data_aux[\"tendencia\"] = tendencia\n",
        "data_aux[\"sinal confirmado\"] = validacao\n",
        "\n",
        "\n",
        "'''"
      ],
      "metadata": {
        "id": "-tRdxu_mplUJ",
        "colab": {
          "base_uri": "https://localhost:8080/",
          "height": 140
        },
        "outputId": "c6d479fe-68df-49fc-daff-65f908574cb8"
      },
      "execution_count": null,
      "outputs": [
        {
          "output_type": "execute_result",
          "data": {
            "text/plain": [
              "'\\ntendencia = []\\nvalidacao = []\\n\\nfor i in range(len(data_teste)):\\n  tend = \\'TL\\'\\n  #print(data_teste.index[i], data_teste[\"J_alta\"][i] == \"sim\",  data_teste[\"Harami_fundo\"][i], data_teste[\"Eng_alta\"][i])\\n  verifica = \"nao\"\\n  #padroes altistas\\n  if(data_teste[\"J_alta\"][i] == \"sim\" or data_teste[\"Harami_fundo\"][i] == \"sim\" or data_teste[\"Eng_alta\"][i] == \"sim\"):\\n    tend = \\'TA\\'\\n    #print(data_teste.index[i], \" padrao altista\", \\'mme9 \\', data_teste[\"MME9\"][i], \\'mme21 \\', data_teste[\"MME21\"][i])\\n    if(data_teste[\"tend_teste\"][i] == \"TA\"):\\n      #if(data_teste[\"MME8obv\"][i] > data_teste[\"MME20obv\"][i] ):\\n      if(data_teste[\"OBV\"][i] > data_teste[\"MME20obv\"][i] ):\\n        verifica = \"Sim, TA\"\\n        \\n  #padroes baixistas\\n  if(data_teste[\"J_baixa\"][i] == \"sim\" or data_teste[\"Harami_topo\"][i] == \"sim\" or data_teste[\"Eng_baixa\"][i] == \"sim\"):\\n    tend = \\'TB\\'\\n    #print(data_teste.index[i], \" padrao altista\", \\'mme9 \\', data_teste[\"MME9\"][i], \\'mme21 \\', data_teste[\"MME21\"][i])\\n    if(data_teste[\"tend_teste\"][i] == \"TB\"):\\n      #print(data_teste.index[i], \"Médias: Padrão altista com tendencia de Alta.\" )\\n      #if(data_teste[\"MME8obv\"][i] < data_teste[\"MME20obv\"][i] ):\\n      if(data_teste[\"OBV\"][i] < data_teste[\"MME20obv\"][i] ):\\n        verifica = \"Sim, tB\"\\n  validacao.append(verifica)\\n  tendencia.append(tend)\\n\\n#print(validacao)\\ndata_teste[\"sinal confirmado\"] = validacao\\ndata_teste[\"tendencia\"] = tendencia\\n\\ndata_aux[\"tendencia\"] = tendencia\\ndata_aux[\"sinal confirmado\"] = validacao\\n\\n\\n'"
            ],
            "application/vnd.google.colaboratory.intrinsic+json": {
              "type": "string"
            }
          },
          "metadata": {},
          "execution_count": 15
        }
      ]
    },
    {
      "cell_type": "code",
      "source": [
        "#Se sinal altista, verificar se está em tendencia de alta (através das médias), se sentido dos topos do preços = sentido topos obv = tendencia\n",
        "tendencia = []\n",
        "validacao = []\n",
        "\n",
        "for i in range(len(data_teste)):\n",
        "  tend = ''\n",
        "  #print(data_teste.index[i], data_teste[\"J_alta\"][i] == \"sim\",  data_teste[\"Harami_fundo\"][i], data_teste[\"Eng_alta\"][i])\n",
        "  verifica = \"\"\n",
        "  #padroes altistas\n",
        "  if(data_teste[\"J_alta\"][i] == \"sim\" or data_teste[\"Harami_fundo\"][i] == \"sim\" or data_teste[\"Eng_alta\"][i] == \"sim\"):\n",
        "    tend = 'TA'\n",
        "    #print(data_teste.index[i], \" padrao altista\", 'mme9 ', data_teste[\"MME9\"][i], 'mme21 ', data_teste[\"MME21\"][i])\n",
        "    if(data_teste['tend_medias'][i] == \"TA\" and data_teste['sentido_obv'][i] == data_teste['sentido_topos_preco'][i] == 'ASC'):\n",
        "      verifica = \"Sim, TA\"\n",
        "        \n",
        "  #padroes baixistas\n",
        "  if(data_teste[\"J_baixa\"][i] == \"sim\" or data_teste[\"Harami_topo\"][i] == \"sim\" or data_teste[\"Eng_baixa\"][i] == \"sim\"):\n",
        "    tend = 'TB'\n",
        "    #print(data_teste.index[i], \" padrao altista\", 'mme9 ', data_teste[\"MME9\"][i], 'mme21 ', data_teste[\"MME21\"][i])\n",
        "    if(data_teste['tend_medias'][i] == \"TB\" and data_teste['sentido_obv'][i] == data_teste['sentido_topos_preco'][i] == 'DESC'):\n",
        "      verifica = \"Sim, tB\"\n",
        "\n",
        "  validacao.append(verifica)\n",
        "  tendencia.append(tend)\n",
        "\n",
        "#print(validacao)\n",
        "data_teste[\"tendencia_sinal\"] = tendencia\n",
        "data_teste[\"sinal confirmado\"] = validacao\n",
        "\n",
        "\n",
        "data_aux[\"tendencia_sinal\"] = tendencia\n",
        "data_aux[\"sinal confirmado\"] = validacao"
      ],
      "metadata": {
        "id": "PIgXwnr1JGrJ"
      },
      "execution_count": null,
      "outputs": []
    },
    {
      "cell_type": "code",
      "source": [
        "#confirmacao do movimento\n",
        "abertura = []\n",
        "'''max = []\n",
        "min = []'''\n",
        "\n",
        "for i in range(len(data_teste)-1):\n",
        "  abertura.append(data_teste['Open'][i+1])\n",
        "\n",
        "for j in range(len(data_teste)-1,len(data_teste)):\n",
        "  abertura.append(0)\n",
        "\n",
        "data_teste['Conf_abert'] = abertura\n",
        "\n",
        "\n",
        "#maior valor de fechamento dentro dos proximos 8periodos (B)\n",
        "\n",
        "#porcentagem = B/A  * 100\n"
      ],
      "metadata": {
        "id": "G4eUi9EnnvDZ"
      },
      "execution_count": null,
      "outputs": []
    },
    {
      "cell_type": "code",
      "source": [
        "menor = []\n",
        "maior = []\n",
        "\n",
        "\n",
        "def min(i):\n",
        "  lista=[]\n",
        "  menor_aux = data_teste['Low'][i]\n",
        "  for j in range(i+1,i+8):\n",
        "    lista.append(data_teste['Low'][j])\n",
        "    if data_teste['Low'][j] < menor_aux:\n",
        "      menor_aux = data_teste['Low'][j]\n",
        "  menor.append(menor_aux)\n",
        "\n",
        "def max(i):\n",
        "  lista=[]\n",
        "  maior_aux = data_teste['High'][i]\n",
        "  for j in range(i+1,i+8):\n",
        "    lista.append(data_teste['High'][j])\n",
        "    if data_teste['High'][j] > maior_aux:\n",
        "      maior_aux = data_teste['High'][j]\n",
        "  maior.append(maior_aux)\n",
        "\n",
        "\n",
        "for i in range(len(data_teste)-8):\n",
        "  min(i)\n",
        "  max(i)\n",
        "\n",
        "for i in range(len(data_teste)-8, len(data_teste)):\n",
        "  menor.append(0)\n",
        "  maior.append(0)\n",
        "\n",
        "\n",
        "data_teste['conf_min'] = menor\n",
        "data_teste['conf_max'] = maior"
      ],
      "metadata": {
        "id": "39sOyNjrQeZu"
      },
      "execution_count": null,
      "outputs": []
    },
    {
      "cell_type": "code",
      "source": [
        "percentual = []\n",
        "\n",
        "for i in range(len(data_teste)):\n",
        "  a = 0\n",
        "  if data_teste['tend_medias'][i] == 'TB':\n",
        "    a = 100 - (data_teste['conf_min'][i]  * 100 / data_teste['Conf_abert'][i] )\n",
        "    #print('a', a)\n",
        "  elif data_teste['tend_medias'][i] == 'TA':\n",
        "    #print(' entrou em TA ', data_teste.index[i], data_teste['tend_medias'][i])\n",
        "    a = (data_teste['conf_max'][i] * 100 / data_teste['Conf_abert'][i] ) - 100\n",
        "  elif data_teste['tend_medias'][i] == 'TL':\n",
        "    a = 270\n",
        "  else:\n",
        "    #print(' entrou no else ', data_teste.index[i], data_teste['tend_medias'][i])\n",
        "    a = 250\n",
        "  percentual.append(a)\n",
        "\n",
        "data_teste['percentual'] = percentual\n",
        "data_aux['percentual'] = percentual\n",
        "\n",
        "\n",
        "\n"
      ],
      "metadata": {
        "id": "PkPVw9UtuYw2"
      },
      "execution_count": null,
      "outputs": []
    },
    {
      "cell_type": "code",
      "source": [
        "'''#df_mask=data_teste['Harami_fundo'] =='sim'\n",
        "#df_mask=data_teste['Harami_topo'] =='sim'\n",
        "#df_mask=data_teste['J_alta'] =='sim'\n",
        "#df_mask=data_teste['J_baixa'] =='sim'\n",
        "df_mask=data_teste['Eng_alta'] =='sim'\n",
        "#df_mask=data_teste['Eng_baixa'] =='sim'\n",
        "filtered_df = data_teste[df_mask]\n",
        "filtered_df.iloc[:,6:]\n",
        "\n",
        "#data_teste.iloc[:,6:]'''"
      ],
      "metadata": {
        "id": "bKoaNVo7m-Wo",
        "colab": {
          "base_uri": "https://localhost:8080/",
          "height": 70
        },
        "outputId": "911ca63a-2e54-4069-c543-c4c9055d7418"
      },
      "execution_count": null,
      "outputs": [
        {
          "output_type": "execute_result",
          "data": {
            "text/plain": [
              "\"#df_mask=data_teste['Harami_fundo'] =='sim'\\n#df_mask=data_teste['Harami_topo'] =='sim'\\n#df_mask=data_teste['J_alta'] =='sim'\\n#df_mask=data_teste['J_baixa'] =='sim'\\ndf_mask=data_teste['Eng_alta'] =='sim'\\n#df_mask=data_teste['Eng_baixa'] =='sim'\\nfiltered_df = data_teste[df_mask]\\nfiltered_df.iloc[:,6:]\\n\\n#data_teste.iloc[:,6:]\""
            ],
            "application/vnd.google.colaboratory.intrinsic+json": {
              "type": "string"
            }
          },
          "metadata": {},
          "execution_count": 20
        }
      ]
    },
    {
      "cell_type": "code",
      "source": [
        "'''list(data_aux)'''"
      ],
      "metadata": {
        "id": "O-ygQtPruS6N",
        "colab": {
          "base_uri": "https://localhost:8080/",
          "height": 35
        },
        "outputId": "b629f530-c037-47d3-c04b-81822d33aea4"
      },
      "execution_count": null,
      "outputs": [
        {
          "output_type": "execute_result",
          "data": {
            "text/plain": [
              "'list(data_aux)'"
            ],
            "application/vnd.google.colaboratory.intrinsic+json": {
              "type": "string"
            }
          },
          "metadata": {},
          "execution_count": 21
        }
      ]
    },
    {
      "cell_type": "code",
      "source": [
        "mask = (data_teste.index >  '2020-01-01') & (data_teste.index <  '2021-12-31') & ( data_teste['J_baixa'] =='sim') & (data_teste['sinal confirmado'] != '')  & (data_teste['percentual'] > 1) & (data_teste['percentual'] < 250)\n",
        "# & (data_teste['sinal confirmado'] != '') #& (data_teste['percentual'] > 1)\n",
        "\n",
        "#(data_teste['Harami_fundo'] =='sim')\n",
        "#data_teste['Harami_topo'] =='sim'\n",
        "#data_teste['J_alta'] =='sim'\n",
        "#data_teste['J_baixa'] =='sim'\n",
        "#data_teste['Eng_alta'] =='sim'\n",
        "#data_teste['Eng_baixa'] =='sim'\n",
        "#(data_teste['tendencia_sinal'] == 'TA')\n",
        "filtered_df = data_teste[mask]\n",
        "filtered_df.iloc[: ,19:]#.shape[0]"
      ],
      "metadata": {
        "colab": {
          "base_uri": "https://localhost:8080/",
          "height": 363
        },
        "id": "tij_iKWhv9vb",
        "outputId": "7830cbd3-913a-4c93-8460-8957ef6a7241"
      },
      "execution_count": null,
      "outputs": [
        {
          "output_type": "execute_result",
          "data": {
            "text/plain": [
              "           tend_medias tendencia_sinal sinal confirmado  Conf_abert  \\\n",
              "Date                                                                  \n",
              "2020-03-06          TB              TB          Sim, tB   17.809999   \n",
              "2020-03-09          TB              TB          Sim, tB   18.650000   \n",
              "2020-03-12          TB              TB          Sim, tB   15.100000   \n",
              "2020-03-18          TB              TB          Sim, tB   11.070000   \n",
              "2020-09-25          TB              TB          Sim, tB   20.330000   \n",
              "2020-09-29          TB              TB          Sim, tB   19.500000   \n",
              "2020-10-07          TB              TB          Sim, tB   20.040001   \n",
              "2021-03-08          TB              TB          Sim, tB   21.360001   \n",
              "2021-09-08          TB              TB          Sim, tB   25.080000   \n",
              "\n",
              "             conf_min   conf_max  percentual  \n",
              "Date                                          \n",
              "2020-03-06  11.080000  24.129999   37.787758  \n",
              "2020-03-09  10.870000  18.650000   41.715817  \n",
              "2020-03-12  10.850000  15.400000   28.145695  \n",
              "2020-03-18  10.850000  15.190000    1.987347  \n",
              "2020-09-25  19.020000  20.700001    6.443677  \n",
              "2020-09-29  19.020000  20.700001    2.461536  \n",
              "2020-10-07  19.250000  20.590000    3.942120  \n",
              "2021-03-08  20.860001  24.129999    2.340824  \n",
              "2021-09-08  24.139999  26.459999    3.748009  "
            ],
            "text/html": [
              "\n",
              "  <div id=\"df-c3d697fd-5f3b-4d2f-8ee7-8b6a6f6956f1\">\n",
              "    <div class=\"colab-df-container\">\n",
              "      <div>\n",
              "<style scoped>\n",
              "    .dataframe tbody tr th:only-of-type {\n",
              "        vertical-align: middle;\n",
              "    }\n",
              "\n",
              "    .dataframe tbody tr th {\n",
              "        vertical-align: top;\n",
              "    }\n",
              "\n",
              "    .dataframe thead th {\n",
              "        text-align: right;\n",
              "    }\n",
              "</style>\n",
              "<table border=\"1\" class=\"dataframe\">\n",
              "  <thead>\n",
              "    <tr style=\"text-align: right;\">\n",
              "      <th></th>\n",
              "      <th>tend_medias</th>\n",
              "      <th>tendencia_sinal</th>\n",
              "      <th>sinal confirmado</th>\n",
              "      <th>Conf_abert</th>\n",
              "      <th>conf_min</th>\n",
              "      <th>conf_max</th>\n",
              "      <th>percentual</th>\n",
              "    </tr>\n",
              "    <tr>\n",
              "      <th>Date</th>\n",
              "      <th></th>\n",
              "      <th></th>\n",
              "      <th></th>\n",
              "      <th></th>\n",
              "      <th></th>\n",
              "      <th></th>\n",
              "      <th></th>\n",
              "    </tr>\n",
              "  </thead>\n",
              "  <tbody>\n",
              "    <tr>\n",
              "      <th>2020-03-06</th>\n",
              "      <td>TB</td>\n",
              "      <td>TB</td>\n",
              "      <td>Sim, tB</td>\n",
              "      <td>17.809999</td>\n",
              "      <td>11.080000</td>\n",
              "      <td>24.129999</td>\n",
              "      <td>37.787758</td>\n",
              "    </tr>\n",
              "    <tr>\n",
              "      <th>2020-03-09</th>\n",
              "      <td>TB</td>\n",
              "      <td>TB</td>\n",
              "      <td>Sim, tB</td>\n",
              "      <td>18.650000</td>\n",
              "      <td>10.870000</td>\n",
              "      <td>18.650000</td>\n",
              "      <td>41.715817</td>\n",
              "    </tr>\n",
              "    <tr>\n",
              "      <th>2020-03-12</th>\n",
              "      <td>TB</td>\n",
              "      <td>TB</td>\n",
              "      <td>Sim, tB</td>\n",
              "      <td>15.100000</td>\n",
              "      <td>10.850000</td>\n",
              "      <td>15.400000</td>\n",
              "      <td>28.145695</td>\n",
              "    </tr>\n",
              "    <tr>\n",
              "      <th>2020-03-18</th>\n",
              "      <td>TB</td>\n",
              "      <td>TB</td>\n",
              "      <td>Sim, tB</td>\n",
              "      <td>11.070000</td>\n",
              "      <td>10.850000</td>\n",
              "      <td>15.190000</td>\n",
              "      <td>1.987347</td>\n",
              "    </tr>\n",
              "    <tr>\n",
              "      <th>2020-09-25</th>\n",
              "      <td>TB</td>\n",
              "      <td>TB</td>\n",
              "      <td>Sim, tB</td>\n",
              "      <td>20.330000</td>\n",
              "      <td>19.020000</td>\n",
              "      <td>20.700001</td>\n",
              "      <td>6.443677</td>\n",
              "    </tr>\n",
              "    <tr>\n",
              "      <th>2020-09-29</th>\n",
              "      <td>TB</td>\n",
              "      <td>TB</td>\n",
              "      <td>Sim, tB</td>\n",
              "      <td>19.500000</td>\n",
              "      <td>19.020000</td>\n",
              "      <td>20.700001</td>\n",
              "      <td>2.461536</td>\n",
              "    </tr>\n",
              "    <tr>\n",
              "      <th>2020-10-07</th>\n",
              "      <td>TB</td>\n",
              "      <td>TB</td>\n",
              "      <td>Sim, tB</td>\n",
              "      <td>20.040001</td>\n",
              "      <td>19.250000</td>\n",
              "      <td>20.590000</td>\n",
              "      <td>3.942120</td>\n",
              "    </tr>\n",
              "    <tr>\n",
              "      <th>2021-03-08</th>\n",
              "      <td>TB</td>\n",
              "      <td>TB</td>\n",
              "      <td>Sim, tB</td>\n",
              "      <td>21.360001</td>\n",
              "      <td>20.860001</td>\n",
              "      <td>24.129999</td>\n",
              "      <td>2.340824</td>\n",
              "    </tr>\n",
              "    <tr>\n",
              "      <th>2021-09-08</th>\n",
              "      <td>TB</td>\n",
              "      <td>TB</td>\n",
              "      <td>Sim, tB</td>\n",
              "      <td>25.080000</td>\n",
              "      <td>24.139999</td>\n",
              "      <td>26.459999</td>\n",
              "      <td>3.748009</td>\n",
              "    </tr>\n",
              "  </tbody>\n",
              "</table>\n",
              "</div>\n",
              "      <button class=\"colab-df-convert\" onclick=\"convertToInteractive('df-c3d697fd-5f3b-4d2f-8ee7-8b6a6f6956f1')\"\n",
              "              title=\"Convert this dataframe to an interactive table.\"\n",
              "              style=\"display:none;\">\n",
              "        \n",
              "  <svg xmlns=\"http://www.w3.org/2000/svg\" height=\"24px\"viewBox=\"0 0 24 24\"\n",
              "       width=\"24px\">\n",
              "    <path d=\"M0 0h24v24H0V0z\" fill=\"none\"/>\n",
              "    <path d=\"M18.56 5.44l.94 2.06.94-2.06 2.06-.94-2.06-.94-.94-2.06-.94 2.06-2.06.94zm-11 1L8.5 8.5l.94-2.06 2.06-.94-2.06-.94L8.5 2.5l-.94 2.06-2.06.94zm10 10l.94 2.06.94-2.06 2.06-.94-2.06-.94-.94-2.06-.94 2.06-2.06.94z\"/><path d=\"M17.41 7.96l-1.37-1.37c-.4-.4-.92-.59-1.43-.59-.52 0-1.04.2-1.43.59L10.3 9.45l-7.72 7.72c-.78.78-.78 2.05 0 2.83L4 21.41c.39.39.9.59 1.41.59.51 0 1.02-.2 1.41-.59l7.78-7.78 2.81-2.81c.8-.78.8-2.07 0-2.86zM5.41 20L4 18.59l7.72-7.72 1.47 1.35L5.41 20z\"/>\n",
              "  </svg>\n",
              "      </button>\n",
              "      \n",
              "  <style>\n",
              "    .colab-df-container {\n",
              "      display:flex;\n",
              "      flex-wrap:wrap;\n",
              "      gap: 12px;\n",
              "    }\n",
              "\n",
              "    .colab-df-convert {\n",
              "      background-color: #E8F0FE;\n",
              "      border: none;\n",
              "      border-radius: 50%;\n",
              "      cursor: pointer;\n",
              "      display: none;\n",
              "      fill: #1967D2;\n",
              "      height: 32px;\n",
              "      padding: 0 0 0 0;\n",
              "      width: 32px;\n",
              "    }\n",
              "\n",
              "    .colab-df-convert:hover {\n",
              "      background-color: #E2EBFA;\n",
              "      box-shadow: 0px 1px 2px rgba(60, 64, 67, 0.3), 0px 1px 3px 1px rgba(60, 64, 67, 0.15);\n",
              "      fill: #174EA6;\n",
              "    }\n",
              "\n",
              "    [theme=dark] .colab-df-convert {\n",
              "      background-color: #3B4455;\n",
              "      fill: #D2E3FC;\n",
              "    }\n",
              "\n",
              "    [theme=dark] .colab-df-convert:hover {\n",
              "      background-color: #434B5C;\n",
              "      box-shadow: 0px 1px 3px 1px rgba(0, 0, 0, 0.15);\n",
              "      filter: drop-shadow(0px 1px 2px rgba(0, 0, 0, 0.3));\n",
              "      fill: #FFFFFF;\n",
              "    }\n",
              "  </style>\n",
              "\n",
              "      <script>\n",
              "        const buttonEl =\n",
              "          document.querySelector('#df-c3d697fd-5f3b-4d2f-8ee7-8b6a6f6956f1 button.colab-df-convert');\n",
              "        buttonEl.style.display =\n",
              "          google.colab.kernel.accessAllowed ? 'block' : 'none';\n",
              "\n",
              "        async function convertToInteractive(key) {\n",
              "          const element = document.querySelector('#df-c3d697fd-5f3b-4d2f-8ee7-8b6a6f6956f1');\n",
              "          const dataTable =\n",
              "            await google.colab.kernel.invokeFunction('convertToInteractive',\n",
              "                                                     [key], {});\n",
              "          if (!dataTable) return;\n",
              "\n",
              "          const docLinkHtml = 'Like what you see? Visit the ' +\n",
              "            '<a target=\"_blank\" href=https://colab.research.google.com/notebooks/data_table.ipynb>data table notebook</a>'\n",
              "            + ' to learn more about interactive tables.';\n",
              "          element.innerHTML = '';\n",
              "          dataTable['output_type'] = 'display_data';\n",
              "          await google.colab.output.renderOutput(dataTable, element);\n",
              "          const docLink = document.createElement('div');\n",
              "          docLink.innerHTML = docLinkHtml;\n",
              "          element.appendChild(docLink);\n",
              "        }\n",
              "      </script>\n",
              "    </div>\n",
              "  </div>\n",
              "  "
            ]
          },
          "metadata": {},
          "execution_count": 30
        }
      ]
    },
    {
      "cell_type": "code",
      "source": [
        "'''#com validacao do sinal\n",
        "padrao = 'Harami_fundo'\n",
        "resultados = []\n",
        "mask0 = (data_teste.index >  '2020-01-01') & (data_teste.index <  '2021-12-31') & ( data_teste[padrao] =='sim') # & (data_teste['sinal confirmado'] != '') #& (data_teste['percentual'] > 1)\n",
        "#(data_teste['Harami_fundo'] =='sim')\n",
        "#data_teste['Harami_topo'] =='sim'\n",
        "#data_teste['J_alta'] =='sim'\n",
        "#data_teste['J_baixa'] =='sim'\n",
        "#data_teste['Eng_alta'] =='sim'\n",
        "#data_teste['Eng_baixa'] =='sim'\n",
        "#(data_teste['tendencia_sinal'] == 'TA')\n",
        "filtered_df = data_teste[mask0]\n",
        "resultados.append(filtered_df.iloc[: ,19:].shape[0])\n",
        "\n",
        "mask1 = (data_teste.index >  '2020-01-01') & (data_teste.index <  '2021-12-31') & ( data_teste[padrao] =='sim')  & (data_teste['sinal confirmado'] != '') #& (data_teste['percentual'] > 1)\n",
        "filtered_df = data_teste[mask1]\n",
        "resultados.append(filtered_df.iloc[: ,19:].shape[0])\n",
        "\n",
        "mask2 = (data_teste.index >  '2020-01-01') & (data_teste.index <  '2021-12-31') & ( data_teste[padrao] =='sim')  & (data_teste['sinal confirmado'] != '') & (data_teste['percentual'] > 1)\n",
        "filtered_df = data_teste[mask2]\n",
        "resultados.append(filtered_df.iloc[: ,19:].shape[0])\n",
        "\n",
        "resultados.append(resultados[2] *100/resultados[1])\n",
        "\n",
        "resultados'''"
      ],
      "metadata": {
        "colab": {
          "base_uri": "https://localhost:8080/",
          "height": 140
        },
        "id": "sjnQ3TMuQtCo",
        "outputId": "44dd4594-bc1b-41af-f4c3-25f2874931f9"
      },
      "execution_count": null,
      "outputs": [
        {
          "output_type": "execute_result",
          "data": {
            "text/plain": [
              "\"#com validacao do sinal\\npadrao = 'Harami_fundo'\\nresultados = []\\nmask0 = (data_teste.index >  '2020-01-01') & (data_teste.index <  '2021-12-31') & ( data_teste[padrao] =='sim') # & (data_teste['sinal confirmado'] != '') #& (data_teste['percentual'] > 1)\\n#(data_teste['Harami_fundo'] =='sim')\\n#data_teste['Harami_topo'] =='sim'\\n#data_teste['J_alta'] =='sim'\\n#data_teste['J_baixa'] =='sim'\\n#data_teste['Eng_alta'] =='sim'\\n#data_teste['Eng_baixa'] =='sim'\\n#(data_teste['tendencia_sinal'] == 'TA')\\nfiltered_df = data_teste[mask0]\\nresultados.append(filtered_df.iloc[: ,19:].shape[0])\\n\\nmask1 = (data_teste.index >  '2020-01-01') & (data_teste.index <  '2021-12-31') & ( data_teste[padrao] =='sim')  & (data_teste['sinal confirmado'] != '') #& (data_teste['percentual'] > 1)\\nfiltered_df = data_teste[mask1]\\nresultados.append(filtered_df.iloc[: ,19:].shape[0])\\n\\nmask2 = (data_teste.index >  '2020-01-01') & (data_teste.index <  '2021-12-31') & ( data_teste[padrao] =='sim')  & (data_teste['sinal confirmado'] != '') & (data_teste['percentual'] > 1)\\nfiltered_df = data_teste[mask2]\\nresultados.append(filtered_df.iloc[: ,19:].shape[0])\\n\\nresultados.append(resultados[2] *100/resultados[1])\\n\\nresultados\""
            ],
            "application/vnd.google.colaboratory.intrinsic+json": {
              "type": "string"
            }
          },
          "metadata": {},
          "execution_count": 23
        }
      ]
    },
    {
      "cell_type": "code",
      "source": [
        "'''#sem validacao do sinal\n",
        "padrao = 'Harami_fundo'\n",
        "resultados = []\n",
        "mask0 = (data_teste.index >  '2020-01-01') & (data_teste.index <  '2021-12-31') & ( data_teste[padrao] =='sim') # & (data_teste['sinal confirmado'] != '') #& (data_teste['percentual'] > 1)\n",
        "filtered_df = data_teste[mask0]\n",
        "resultados.append(filtered_df.iloc[: ,19:].shape[0])\n",
        "\n",
        "mask2 = (data_teste.index >  '2020-01-01') & (data_teste.index <  '2021-12-31') & ( data_teste[padrao] =='sim')  & (data_teste['percentual'] > 1) & (data_teste['percentual'] < 250)\n",
        "filtered_df = data_teste[mask2]\n",
        "resultados.append(filtered_df.iloc[: ,19:].shape[0])\n",
        "\n",
        "resultados.append(resultados[1] *100/resultados[0])\n",
        "resultados'''"
      ],
      "metadata": {
        "colab": {
          "base_uri": "https://localhost:8080/",
          "height": 105
        },
        "id": "RYX3P1u8Rc3Y",
        "outputId": "ea6d96e7-c23b-4b4a-822d-c00550394f76"
      },
      "execution_count": null,
      "outputs": [
        {
          "output_type": "execute_result",
          "data": {
            "text/plain": [
              "\"#sem validacao do sinal\\npadrao = 'Harami_fundo'\\nresultados = []\\nmask0 = (data_teste.index >  '2020-01-01') & (data_teste.index <  '2021-12-31') & ( data_teste[padrao] =='sim') # & (data_teste['sinal confirmado'] != '') #& (data_teste['percentual'] > 1)\\nfiltered_df = data_teste[mask0]\\nresultados.append(filtered_df.iloc[: ,19:].shape[0])\\n\\nmask2 = (data_teste.index >  '2020-01-01') & (data_teste.index <  '2021-12-31') & ( data_teste[padrao] =='sim')  & (data_teste['percentual'] > 1) & (data_teste['percentual'] < 250)\\nfiltered_df = data_teste[mask2]\\nresultados.append(filtered_df.iloc[: ,19:].shape[0])\\n\\nresultados.append(resultados[1] *100/resultados[0])\\nresultados\""
            ],
            "application/vnd.google.colaboratory.intrinsic+json": {
              "type": "string"
            }
          },
          "metadata": {},
          "execution_count": 24
        }
      ]
    },
    {
      "cell_type": "code",
      "source": [
        "#COM validacao do sinal\n",
        "padroes = ['Harami_fundo',  'Harami_topo', 'J_alta', 'J_baixa', 'Eng_alta', 'Eng_baixa']\n",
        "resultados = []\n",
        "for i in range(len(padroes)):\n",
        "  resultados = [padroes[i]]\n",
        "  #FP\n",
        "  mask0 = (data_teste.index >  '2020-01-01') & (data_teste.index <  '2021-12-31')& ( data_teste[padroes[i]] =='sim')\n",
        "  filtered_df = data_teste[mask0]\n",
        "  resultados.append(filtered_df.iloc[: ,19:].shape[0])\n",
        "\n",
        "  #VP\n",
        "  mask1 = (data_teste.index >  '2020-01-01') & (data_teste.index <  '2021-12-31') & ( data_teste[padroes[i]] =='sim')  & (data_teste['sinal confirmado'] != '') \n",
        "  filtered_df = data_teste[mask1]\n",
        "  resultados.append(filtered_df.iloc[: ,19:].shape[0])\n",
        "\n",
        "  #AM\n",
        "  mask2 = (data_teste.index >  '2020-01-01') & (data_teste.index <  '2021-12-31') & ( data_teste[padroes[i]] =='sim')  & (data_teste['sinal confirmado'] != '') & (data_teste['percentual'] > 1) & (data_teste['percentual'] < 250)\n",
        "  filtered_df = data_teste[mask2]\n",
        "  resultados.append(filtered_df.iloc[: ,19:].shape[0])\n",
        "\n",
        "  #EF\n",
        "  try: \n",
        "    resultados[3] *100/resultados[2]\n",
        "    resultados.append(resultados[3] *100/resultados[2])\n",
        "  except:\n",
        "    resultados.append(0)\n",
        "\n",
        "  print(resultados)"
      ],
      "metadata": {
        "colab": {
          "base_uri": "https://localhost:8080/"
        },
        "id": "24hf9FN1WcCP",
        "outputId": "aca314f4-f0bd-4433-a9cc-609699408e4e"
      },
      "execution_count": null,
      "outputs": [
        {
          "output_type": "stream",
          "name": "stdout",
          "text": [
            "['Harami_fundo', 24, 1, 1, 100.0]\n",
            "['Harami_topo', 22, 1, 1, 100.0]\n",
            "['J_alta', 8, 3, 3, 100.0]\n",
            "['J_baixa', 86, 9, 9, 100.0]\n",
            "['Eng_alta', 12, 2, 2, 100.0]\n",
            "['Eng_baixa', 7, 0, 0, 0]\n"
          ]
        }
      ]
    },
    {
      "cell_type": "code",
      "source": [
        "#sem validacao do sinal\n",
        "padroes = ['Harami_fundo',  'Harami_topo', 'J_alta', 'J_baixa', 'Eng_alta', 'Eng_baixa']\n",
        "resultados = []\n",
        "for i in range(len(padroes)):\n",
        "  resultados = [padroes[i]]\n",
        "  #FP\n",
        "  mask0 = (data_teste.index >  '2020-01-01') & (data_teste.index <  '2021-12-31')& ( data_teste[padroes[i]] =='sim')\n",
        "  filtered_df = data_teste[mask0]\n",
        "  resultados.append(filtered_df.iloc[: ,19:].shape[0])\n",
        "  \n",
        "  #AM\n",
        "  mask2 = (data_teste.index >  '2020-01-01') & (data_teste.index <  '2021-12-31') & ( data_teste[padroes[i]] =='sim')  & (data_teste['percentual'] > 1) & (data_teste['percentual'] < 250)\n",
        "  filtered_df = data_teste[mask2]\n",
        "  resultados.append(filtered_df.iloc[: ,19:].shape[0])\n",
        "\n",
        "  #EF\n",
        "  resultados.append(resultados[2] *100/resultados[1])\n",
        "\n",
        "  print(resultados)"
      ],
      "metadata": {
        "colab": {
          "base_uri": "https://localhost:8080/"
        },
        "id": "CIr4M9jXSgVB",
        "outputId": "0aaaca01-8856-476e-a47d-2b3a0c9ddc6e"
      },
      "execution_count": null,
      "outputs": [
        {
          "output_type": "stream",
          "name": "stdout",
          "text": [
            "['Harami_fundo', 24, 8, 33.333333333333336]\n",
            "['Harami_topo', 22, 5, 22.727272727272727]\n",
            "['J_alta', 8, 5, 62.5]\n",
            "['J_baixa', 86, 25, 29.069767441860463]\n",
            "['Eng_alta', 12, 3, 25.0]\n",
            "['Eng_baixa', 7, 2, 28.571428571428573]\n"
          ]
        }
      ]
    },
    {
      "cell_type": "code",
      "source": [
        "'''#sem validacao do sinal\n",
        "padroes = ['Harami_fundo',  'Harami_topo', 'J_alta', 'J_baixa', 'Eng_alta', 'Eng_baixa']\n",
        "resultados = []\n",
        "for i in range(len(padroes)):\n",
        "\n",
        "  print([padroes[i]])\n",
        "  #FP\n",
        "  mask0 = (data_teste.index >  '2020-01-01') & (data_teste.index <  '2021-12-31')& ( data_teste[padroes[i]] =='sim') & (data_teste['sinal confirmado']== '') & (data_teste['tend_medias']!= 'NI')\n",
        "  print(filtered_df.iloc[: ,19:])\n",
        "'''\n"
      ],
      "metadata": {
        "colab": {
          "base_uri": "https://localhost:8080/",
          "height": 70
        },
        "id": "LCna9wTcYTK-",
        "outputId": "7c9b6482-13ac-4583-a82d-cb276116ac92"
      },
      "execution_count": null,
      "outputs": [
        {
          "output_type": "execute_result",
          "data": {
            "text/plain": [
              "\"#sem validacao do sinal\\npadroes = ['Harami_fundo',  'Harami_topo', 'J_alta', 'J_baixa', 'Eng_alta', 'Eng_baixa']\\nresultados = []\\nfor i in range(len(padroes)):\\n\\n  print([padroes[i]])\\n  #FP\\n  mask0 = (data_teste.index >  '2020-01-01') & (data_teste.index <  '2021-12-31')& ( data_teste[padroes[i]] =='sim') & (data_teste['sinal confirmado']== '') & (data_teste['tend_medias']!= 'NI')\\n  print(filtered_df.iloc[: ,19:])\\n\""
            ],
            "application/vnd.google.colaboratory.intrinsic+json": {
              "type": "string"
            }
          },
          "metadata": {},
          "execution_count": 27
        }
      ]
    }
  ]
}