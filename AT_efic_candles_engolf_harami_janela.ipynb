{
  "nbformat": 4,
  "nbformat_minor": 0,
  "metadata": {
    "colab": {
      "provenance": [],
      "collapsed_sections": [],
      "authorship_tag": "ABX9TyO6TFq5VNw+xXlHyq809xfe",
      "include_colab_link": true
    },
    "kernelspec": {
      "name": "python3",
      "display_name": "Python 3"
    },
    "language_info": {
      "name": "python"
    }
  },
  "cells": [
    {
      "cell_type": "markdown",
      "metadata": {
        "id": "view-in-github",
        "colab_type": "text"
      },
      "source": [
        "<a href=\"https://colab.research.google.com/github/liriacs/analise_tecnica/blob/main/AT_efic_candles_engolf_harami_janela.ipynb\" target=\"_parent\"><img src=\"https://colab.research.google.com/assets/colab-badge.svg\" alt=\"Open In Colab\"/></a>"
      ]
    },
    {
      "cell_type": "code",
      "execution_count": 1,
      "metadata": {
        "id": "AiCjSEaaxh5c",
        "colab": {
          "base_uri": "https://localhost:8080/"
        },
        "outputId": "063d7c84-5365-4174-be66-f12170798ae7"
      },
      "outputs": [
        {
          "output_type": "stream",
          "name": "stdout",
          "text": [
            "Looking in indexes: https://pypi.org/simple, https://us-python.pkg.dev/colab-wheels/public/simple/\n",
            "Requirement already satisfied: yfinance in /usr/local/lib/python3.7/dist-packages (0.1.75)\n",
            "Requirement already satisfied: pandas>=0.24.0 in /usr/local/lib/python3.7/dist-packages (from yfinance) (1.3.5)\n",
            "Requirement already satisfied: appdirs>=1.4.4 in /usr/local/lib/python3.7/dist-packages (from yfinance) (1.4.4)\n",
            "Requirement already satisfied: multitasking>=0.0.7 in /usr/local/lib/python3.7/dist-packages (from yfinance) (0.0.11)\n",
            "Requirement already satisfied: requests>=2.26 in /usr/local/lib/python3.7/dist-packages (from yfinance) (2.28.1)\n",
            "Requirement already satisfied: lxml>=4.5.1 in /usr/local/lib/python3.7/dist-packages (from yfinance) (4.9.1)\n",
            "Requirement already satisfied: numpy>=1.15 in /usr/local/lib/python3.7/dist-packages (from yfinance) (1.21.6)\n",
            "Requirement already satisfied: python-dateutil>=2.7.3 in /usr/local/lib/python3.7/dist-packages (from pandas>=0.24.0->yfinance) (2.8.2)\n",
            "Requirement already satisfied: pytz>=2017.3 in /usr/local/lib/python3.7/dist-packages (from pandas>=0.24.0->yfinance) (2022.2.1)\n",
            "Requirement already satisfied: six>=1.5 in /usr/local/lib/python3.7/dist-packages (from python-dateutil>=2.7.3->pandas>=0.24.0->yfinance) (1.15.0)\n",
            "Requirement already satisfied: idna<4,>=2.5 in /usr/local/lib/python3.7/dist-packages (from requests>=2.26->yfinance) (2.10)\n",
            "Requirement already satisfied: charset-normalizer<3,>=2 in /usr/local/lib/python3.7/dist-packages (from requests>=2.26->yfinance) (2.1.1)\n",
            "Requirement already satisfied: certifi>=2017.4.17 in /usr/local/lib/python3.7/dist-packages (from requests>=2.26->yfinance) (2022.6.15)\n",
            "Requirement already satisfied: urllib3<1.27,>=1.21.1 in /usr/local/lib/python3.7/dist-packages (from requests>=2.26->yfinance) (1.24.3)\n"
          ]
        }
      ],
      "source": [
        "!pip install yfinance \n",
        "import yfinance as yf"
      ]
    },
    {
      "cell_type": "code",
      "source": [
        "import pandas as pd\n",
        "import numpy as np\n",
        "#import matplotlib.pyplot as plt\n",
        "#import matplotlib.dates as mdates"
      ],
      "metadata": {
        "id": "G-53qEnumWhA"
      },
      "execution_count": 2,
      "outputs": []
    },
    {
      "cell_type": "code",
      "execution_count": 3,
      "metadata": {
        "id": "7GTeAWuRXxlQ",
        "colab": {
          "base_uri": "https://localhost:8080/"
        },
        "outputId": "ffa0f4a3-a608-4d1a-b1cc-3312dac8b978"
      },
      "outputs": [
        {
          "output_type": "stream",
          "name": "stdout",
          "text": [
            "\r[*********************100%***********************]  1 of 1 completed\n"
          ]
        }
      ],
      "source": [
        "'''baixar dados desde dez/2020 para que seja possivel calcular a media desde o inicio de janeiro de 2021'''\n",
        "data = yf.download(\"petr4.SA\", start=\"2009-12-01\", end=\"2022-01-15\")\n",
        "#data\n"
      ]
    },
    {
      "cell_type": "code",
      "source": [
        "data_teste = data\n",
        "data_aux = data.copy()"
      ],
      "metadata": {
        "id": "j2AVPcsbS2U4"
      },
      "execution_count": 4,
      "outputs": []
    },
    {
      "cell_type": "code",
      "source": [
        "#obv\n",
        "\n",
        "obv = []\n",
        "obv_aux = data_teste['Volume'][0]\n",
        "obv.append(obv_aux)\n",
        "for i in range(1,len(data_teste)):\n",
        "  #print(data_teste.index[i])\n",
        "  if (data_teste['Close'][i] > data_teste['Close'][i-1]):\n",
        "    obv_aux = obv_aux + data_teste['Volume'][i]\n",
        "  elif (data_teste['Close'][i] < data_teste['Close'][i-1]):\n",
        "    obv_aux = obv_aux - data_teste['Volume'][i]\n",
        "  obv.append(obv_aux)\n",
        "data_teste['obv_teste'] = obv\n",
        "data_aux['obv_teste'] = obv\n",
        "\n",
        "#data_teste.head()\n"
      ],
      "metadata": {
        "id": "uMHdZRGSb3Yj"
      },
      "execution_count": 5,
      "outputs": []
    },
    {
      "cell_type": "code",
      "source": [
        "#medias\n",
        "data_teste[\"MME8\"] = data_teste[\"Close\"].ewm(span=8, min_periods=8).mean()\n",
        "data_teste[\"MME20\"] = data_teste[\"Close\"].ewm(span=20, min_periods=20).mean()\n"
      ],
      "metadata": {
        "id": "edQBdUSQqHYB"
      },
      "execution_count": 6,
      "outputs": []
    },
    {
      "cell_type": "code",
      "source": [
        "#identificando topo no obv\n",
        "topos_obv = []\n",
        "sentido = []\n",
        "penult_topo = data_teste[\"obv_teste\"][0]\n",
        "ultimo_topo = data_teste[\"obv_teste\"][0]\n",
        "sentido_aux = ''\n",
        "for i in range(len(data_teste)-1):\n",
        "  #sentido_aux = ''\n",
        "  if data_teste[\"obv_teste\"][i-1] < data_teste[\"obv_teste\"][i] > data_teste[\"obv_teste\"][i+1]:\n",
        "    penult_topo = ultimo_topo\n",
        "    ultimo_topo = data_teste[\"obv_teste\"][i]\n",
        "    if penult_topo < ultimo_topo:\n",
        "      sentido_aux = 'ASC'\n",
        "    elif penult_topo > ultimo_topo:\n",
        "      sentido_aux = 'DESC'\n",
        "    elif penult_topo == ultimo_topo:\n",
        "      sentido_aux = 'LAT'\n",
        "  topos_obv.append(ultimo_topo)\n",
        "  sentido.append(sentido_aux)\n",
        "  #print(data_teste.index[i], ultimo_topo)\n",
        "\n",
        "for i in range(len(data_teste)-1, len(data_teste)):\n",
        "  topos_obv.append(ultimo_topo)\n",
        "  sentido.append(sentido_aux)\n",
        "\n",
        "#data_teste['topos_obv'] = topos_obv\n",
        "data_teste['sentido_obv'] = sentido\n",
        "data_aux['sentido_obv'] = sentido"
      ],
      "metadata": {
        "id": "eYoqC6kOJhda"
      },
      "execution_count": 7,
      "outputs": []
    },
    {
      "cell_type": "code",
      "source": [
        "#Identificando topo do preço.\n",
        "topos_preco = []\n",
        "sentido_preco = []\n",
        "penult_topo_pr = max([data_teste['Close'][0], data_teste['Open'][0]])\n",
        "ultimo_topo_pr = max([data_teste['Close'][0], data_teste['Open'][0]])\n",
        "sentido_aux_pr = ''\n",
        "for i in range(len(data_teste)-1):\n",
        "  #sentido_aux_pr = ''\n",
        "  #if data_teste[\"Close\"][i-2] < data_teste[\"Close\"][i-1]  < data_teste[\"Close\"][i] > data_teste[\"Close\"][i+1]:\n",
        "  consid0 = max([data_teste['Close'][i-2], data_teste['Open'][i-2]])\n",
        "  consid1 = max([data_teste['Close'][i-1], data_teste['Open'][i-1]])\n",
        "  consid2 = max([data_teste['Close'][i], data_teste['Open'][i]])\n",
        "  consid3 = max([data_teste['Close'][i+1], data_teste['Open'][i+1]])\n",
        "  \n",
        "\n",
        "  if consid0 < consid1  < consid2 >= consid3:\n",
        "    penult_topo_pr = ultimo_topo_pr\n",
        "    ultimo_topo_pr = consid2 #max(abertura, fechamento)[i]\n",
        "    variacao = ultimo_topo_pr / penult_topo_pr\n",
        "    \n",
        "    '''if penult_topo_pr < ultimo_topo_pr:\n",
        "      sentido_aux_pr = 'ASC'\n",
        "    elif penult_topo_pr > ultimo_topo_pr:\n",
        "      sentido_aux_pr = 'DESC'\n",
        "    elif penult_topo_pr == ultimo_topo_pr:\n",
        "      sentido_aux_pr = 'LAT'\n",
        "      '''\n",
        "    #if 0.9895 < variacao < 1.0105:\n",
        "    if 0.9979 < variacao < 1.0021:\n",
        "      sentido_aux_pr = 'LAT'\n",
        "    elif penult_topo_pr < ultimo_topo_pr and variacao > 1.0021:\n",
        "      sentido_aux_pr = 'ASC'\n",
        "    elif penult_topo_pr > ultimo_topo_pr and variacao < 0.9979:\n",
        "      sentido_aux_pr = 'DESC'\n",
        "    \n",
        "  topos_preco.append(ultimo_topo_pr)\n",
        "  sentido_preco.append(sentido_aux_pr)\n",
        "\n",
        "\n",
        "for i in range(len(data_teste)-1, len(data_teste)):\n",
        "  topos_preco.append(ultimo_topo_pr)\n",
        "  sentido_preco.append(sentido_aux_pr)\n",
        "\n",
        "data_teste['topos_preco'] = topos_preco\n",
        "data_teste['sentido_topos_preco'] = sentido_preco\n",
        "\n",
        "data_aux['topos_preco'] = topos_preco\n",
        "data_aux['sentido_topos_preco'] = sentido_preco"
      ],
      "metadata": {
        "id": "1hjaS7d9e1xf"
      },
      "execution_count": 8,
      "outputs": []
    },
    {
      "cell_type": "code",
      "source": [
        "#funcoes que buscam os padroes de candles\n",
        "def func_j_alta(x):\n",
        "  if (data_teste['Low'][x] > data_teste['High'][x-1] + 0.3 ):\n",
        "    j_alta.append('sim')\n",
        "  else:\n",
        "    j_alta.append('não')\n",
        "\n",
        "def func_j_baixa(x):\n",
        "  if (data_teste['High'][x] < data_teste['Low'][x-1] + 0.3 ):\n",
        "    #print('gap baixa')\n",
        "    J_baixa.append('sim')\n",
        "  else:\n",
        "    #print('não')\n",
        "    J_baixa.append('não')\n",
        "\n",
        "def func_eng_alta(i):\n",
        "  if(\n",
        "    #PF1<PA1\n",
        "    (data_teste['Close'][i-1] < data_teste['Open'][i-1])\n",
        "    and \n",
        "    # PF2>PA2\n",
        "    (data_teste['Close'][i] > data_teste['Open'][i])\n",
        "    and\n",
        "    #PF2>PA1\n",
        "    (data_teste['Close'][i] > data_teste['Open'][i-1])\n",
        "    and\n",
        "    #PA2<PF1\n",
        "    (data_teste['Open'][i]  < data_teste['Close'][i-1])\n",
        "    and \n",
        "    #(PF2-PA2)/(PA1-PF1)>2\n",
        "     ((data_teste['Close'][i] - data_teste['Open'][i] ) / (data_teste['Open'][i-1] - data_teste['Close'][i-1]) > 2)\n",
        "    and \n",
        "    #(MA2-ME2)>(MA1-ME1)\n",
        "    ((data_teste['High'][i]  - data_teste['Low'][i]) > ( data_teste['High'][i-1]  - data_teste['Low'][i-1] ))\n",
        "  ):\n",
        "    #print(data_teste.index[i], 'sim')\n",
        "    Eng_alta.append('sim')\n",
        "  else:\n",
        "    #print(data_teste.index[i], 'nao')\n",
        "    Eng_alta.append('não')\n",
        "\n",
        "def func_eng_baixa(i):\n",
        "  if(\n",
        "     #PF1>PA1\n",
        "     data_teste['Close'][i-1] > data_teste['Open'][i-1]\n",
        "     and\n",
        "     #PF2<PA2\n",
        "     data_teste['Close'][i] < data_teste['Open'][i] \n",
        "     and\n",
        "     #PF2<PA1\n",
        "     data_teste['Close'][i] < data_teste['Open'][i-1]\n",
        "     and\n",
        "     #PA2>PF1\n",
        "     data_teste['Open'][i]  > data_teste['Close'][i-1]\n",
        "     and\n",
        "     #(PA2-PF2)/(PF1-PA1)>2\n",
        "     ((data_teste['Open'][i]  - data_teste['Close'][i]) / (data_teste['Close'][i-1] - data_teste['Open'][i-1] ) ) > 2\n",
        "     and\n",
        "     #(MA2-ME2)>(MA1-ME1)\n",
        "     (data_teste['High'][i] - data_teste['Low'][i] ) > (data_teste['High'][i-1]  - data_teste['Low'][i-1] )\n",
        "  ):\n",
        "    #print(data_teste.index[i], 'sim')\n",
        "    Eng_baixa.append('sim')\n",
        "  else:\n",
        "    #print(data_teste.index[i], 'nao')\n",
        "    Eng_baixa.append('não')\n",
        "\n",
        "def func_h_topo(i):\n",
        "  if(\n",
        "      #[PA1 < PF1]\n",
        "     data_teste['Open'][i-1] <  data_teste['Close'][i-1]\n",
        "     and \n",
        "     #[PF2 < PF1 ]\n",
        "     data_teste['Close'][i] <  data_teste['Close'][i-1]\n",
        "     and\n",
        "     #[PA2 > PA1]\n",
        "     data_teste['Open'][i]  > data_teste['Open'][i-1]\n",
        "     and \n",
        "     #[(Pa2 - pf2)*3   <= (PF1 – PA1) >= (Pf2-Pa2) * 3]\n",
        "     (\n",
        "     ((data_teste['Close'][i-1] - data_teste['Open'][i-1]) / (data_teste['Open'][i]  - data_teste['Close'][i]) ) >= 3.0\n",
        "     or \n",
        "     ((data_teste['Close'][i-1] - data_teste['Open'][i-1]) / (data_teste['Open'][i]  - data_teste['Close'][i]) ) <= -3.0\n",
        "     )\n",
        "  ):\n",
        "    #print(data_teste.index[i], 'sim')\n",
        "    Harami_topo.append('sim')\n",
        "  else:\n",
        "    Harami_topo.append('não')\n",
        "\n",
        "def func_h_fundo(i):\n",
        "  if(\n",
        "      #[PA1 > PF1]\n",
        "     data_teste['Open'][i-1] >  data_teste['Close'][i-1]\n",
        "     and \n",
        "     #[PF2 > PF1 ]\n",
        "     data_teste['Close'][i] >  data_teste['Close'][i-1]\n",
        "     and\n",
        "     #[PA2 < PA1]\n",
        "     data_teste['Open'][i]  < data_teste['Open'][i-1]\n",
        "     and \n",
        "     #[(Pa2 - pf2)*3   <= (PF1 – PA1) >= (Pf2-Pa2) * 3]\n",
        "     (\n",
        "     ((data_teste['Close'][i-1] - data_teste['Open'][i-1]) / (data_teste['Open'][i]  - data_teste['Close'][i]) ) >= 3.0\n",
        "     or \n",
        "     ((data_teste['Close'][i-1] - data_teste['Open'][i-1]) / (data_teste['Open'][i]  - data_teste['Close'][i]) ) <= -3.0\n",
        "     )\n",
        "  ):\n",
        "    Harami_fundo.append('sim')\n",
        "  else:\n",
        "    Harami_fundo.append('não')\n",
        "\n",
        "\n",
        "j_alta = []\n",
        "J_baixa = []\n",
        "Eng_alta = []\n",
        "Eng_baixa = []\n",
        "Harami_topo = []\n",
        "Harami_fundo = []\n",
        "\n",
        "#verificacao\n",
        "for i in range(len(data_teste)):\n",
        "  #janela de alta\n",
        "  #print(i)\n",
        "  func_j_alta(i)\n",
        "  func_j_baixa(i)\n",
        "  func_eng_alta(i)\n",
        "  func_eng_baixa(i)\n",
        "  func_h_topo(i)\n",
        "  func_h_fundo(i)\n",
        "\n",
        "\n",
        "\n",
        "#adiciona os resultados da verificacao ao df\n",
        "\n",
        "data_teste['J_alta'] = j_alta\n",
        "data_teste['J_baixa'] = J_baixa\n",
        "data_teste['Eng_alta'] = Eng_alta\n",
        "data_teste['Eng_baixa'] = Eng_baixa\n",
        "data_teste['Harami_topo'] = Harami_topo\n",
        "data_teste['Harami_fundo'] = Harami_fundo\n",
        "\n",
        "#data_teste\n"
      ],
      "metadata": {
        "id": "uug6WpoYk9Uc",
        "colab": {
          "base_uri": "https://localhost:8080/"
        },
        "outputId": "5f22b7c0-2f6f-4db2-c3ad-2398802e46f0"
      },
      "execution_count": 9,
      "outputs": [
        {
          "output_type": "stream",
          "name": "stderr",
          "text": [
            "/usr/local/lib/python3.7/dist-packages/ipykernel_launcher.py:104: RuntimeWarning: divide by zero encountered in double_scalars\n",
            "/usr/local/lib/python3.7/dist-packages/ipykernel_launcher.py:106: RuntimeWarning: divide by zero encountered in double_scalars\n",
            "/usr/local/lib/python3.7/dist-packages/ipykernel_launcher.py:81: RuntimeWarning: divide by zero encountered in double_scalars\n"
          ]
        }
      ]
    },
    {
      "cell_type": "code",
      "source": [
        "#Verificando coeficiente angular\n",
        "\n",
        "coef_ang = []\n",
        "tend_teste = []\n",
        "\n",
        "for i in range(len(data_teste)):\n",
        "  #x = (y2-y1) / (x2-x1)\n",
        "  #y é  o preço e x é a data\n",
        "  vary = data_teste['MME20'][i] - data_teste['MME20'][i-6]\n",
        "  #varx = (data_teste.index[i]) - (data_teste.index[i-6])\n",
        "  varx = 6 # 6 periodos\n",
        "  x = vary / varx\n",
        "  coef_ang.append(x)\n",
        "  if  -0.1 < x < 0.1:\n",
        "    tend_teste.append('TL')\n",
        "  elif x <= -0.1 and data_teste['MME8'][i] < data_teste['MME20'][i]:\n",
        "    tend_teste.append('TB')\n",
        "  elif x >= 0.1 and data_teste['MME8'][i] > data_teste['MME20'][i]:\n",
        "    tend_teste.append('TA')\n",
        "  else:\n",
        "    tend_teste.append('NI')\n",
        "  #print('dia, ', data_teste.index[i], 'vary ', vary, ' vary/6 ', x, ' medias 8 e 20: ', data_teste['MME8'][i], data_teste['MME20'][i] )\n",
        "  \n",
        "data_teste['Coef_ang'] = coef_ang\n",
        "data_teste['tend_medias'] = tend_teste\n",
        "\n",
        "#data_aux['Coef_ang'] = coef_ang\n",
        "data_aux['tend_medias'] = tend_teste\n",
        "\n"
      ],
      "metadata": {
        "id": "L5u1R2rIueJ8"
      },
      "execution_count": 10,
      "outputs": []
    },
    {
      "cell_type": "code",
      "source": [
        "#Se sinal altista, verificar se está em tendencia de alta (através das médias), se sentido dos topos do preços = sentido topos obv = tendencia\n",
        "tendencia = []\n",
        "validacao = []\n",
        "\n",
        "for i in range(len(data_teste)):\n",
        "  tend = ''\n",
        "  #print(data_teste.index[i], data_teste[\"J_alta\"][i] == \"sim\",  data_teste[\"Harami_fundo\"][i], data_teste[\"Eng_alta\"][i])\n",
        "  verifica = \"\"\n",
        "  #padroes altistas\n",
        "  if(data_teste[\"J_alta\"][i] == \"sim\" or data_teste[\"Harami_fundo\"][i] == \"sim\" or data_teste[\"Eng_alta\"][i] == \"sim\"):\n",
        "    tend = 'TA'\n",
        "    #print(data_teste.index[i], \" padrao altista\", 'mme9 ', data_teste[\"MME9\"][i], 'mme21 ', data_teste[\"MME21\"][i])\n",
        "    if(data_teste['tend_medias'][i] == \"TA\" and data_teste['sentido_obv'][i] == data_teste['sentido_topos_preco'][i] == 'ASC'):\n",
        "      verifica = \"Sim, TA\"\n",
        "        \n",
        "  #padroes baixistas\n",
        "  if(data_teste[\"J_baixa\"][i] == \"sim\" or data_teste[\"Harami_topo\"][i] == \"sim\" or data_teste[\"Eng_baixa\"][i] == \"sim\"):\n",
        "    tend = 'TB'\n",
        "    #print(data_teste.index[i], \" padrao altista\", 'mme9 ', data_teste[\"MME9\"][i], 'mme21 ', data_teste[\"MME21\"][i])\n",
        "    if(data_teste['tend_medias'][i] == \"TB\" and data_teste['sentido_obv'][i] == data_teste['sentido_topos_preco'][i] == 'DESC'):\n",
        "      verifica = \"Sim, tB\"\n",
        "\n",
        "  validacao.append(verifica)\n",
        "  tendencia.append(tend)\n",
        "\n",
        "#print(validacao)\n",
        "data_teste[\"tendencia_sinal\"] = tendencia\n",
        "data_teste[\"sinal confirmado\"] = validacao\n",
        "\n",
        "\n",
        "data_aux[\"tendencia_sinal\"] = tendencia\n",
        "data_aux[\"sinal confirmado\"] = validacao"
      ],
      "metadata": {
        "id": "PIgXwnr1JGrJ"
      },
      "execution_count": 11,
      "outputs": []
    },
    {
      "cell_type": "code",
      "source": [
        "#confirmacao do movimento\n",
        "abertura = []\n",
        "'''max = []\n",
        "min = []'''\n",
        "\n",
        "for i in range(len(data_teste)-1):\n",
        "  abertura.append(data_teste['Open'][i+1])\n",
        "\n",
        "for j in range(len(data_teste)-1,len(data_teste)):\n",
        "  abertura.append(0)\n",
        "\n",
        "data_teste['Conf_abert'] = abertura\n",
        "\n",
        "\n",
        "#maior valor de fechamento dentro dos proximos 8periodos (B)\n",
        "\n",
        "#porcentagem = B/A  * 100\n"
      ],
      "metadata": {
        "id": "G4eUi9EnnvDZ"
      },
      "execution_count": 12,
      "outputs": []
    },
    {
      "cell_type": "code",
      "source": [
        "menor = []\n",
        "maior = []\n",
        "\n",
        "\n",
        "def min(i):\n",
        "  lista=[]\n",
        "  menor_aux = data_teste['Low'][i]\n",
        "  for j in range(i+1,i+8):\n",
        "    lista.append(data_teste['Low'][j])\n",
        "    if data_teste['Low'][j] < menor_aux:\n",
        "      menor_aux = data_teste['Low'][j]\n",
        "  menor.append(menor_aux)\n",
        "\n",
        "def max(i):\n",
        "  lista=[]\n",
        "  maior_aux = data_teste['High'][i]\n",
        "  for j in range(i+1,i+8):\n",
        "    lista.append(data_teste['High'][j])\n",
        "    if data_teste['High'][j] > maior_aux:\n",
        "      maior_aux = data_teste['High'][j]\n",
        "  maior.append(maior_aux)\n",
        "\n",
        "\n",
        "for i in range(len(data_teste)-8):\n",
        "  min(i)\n",
        "  max(i)\n",
        "\n",
        "for i in range(len(data_teste)-8, len(data_teste)):\n",
        "  menor.append(0)\n",
        "  maior.append(0)\n",
        "\n",
        "\n",
        "data_teste['conf_min'] = menor\n",
        "data_teste['conf_max'] = maior"
      ],
      "metadata": {
        "id": "39sOyNjrQeZu"
      },
      "execution_count": 13,
      "outputs": []
    },
    {
      "cell_type": "code",
      "source": [
        "percentual = []\n",
        "\n",
        "for i in range(len(data_teste)):\n",
        "  a = 0\n",
        "  if data_teste['tend_medias'][i] == 'TB':\n",
        "    a = 100 - (data_teste['conf_min'][i]  * 100 / data_teste['Conf_abert'][i] )\n",
        "    #print('a', a)\n",
        "  elif data_teste['tend_medias'][i] == 'TA':\n",
        "    #print(' entrou em TA ', data_teste.index[i], data_teste['tend_medias'][i])\n",
        "    a = (data_teste['conf_max'][i] * 100 / data_teste['Conf_abert'][i] ) - 100\n",
        "  elif data_teste['tend_medias'][i] == 'TL':\n",
        "    a = 270\n",
        "  else:\n",
        "    #print(' entrou no else ', data_teste.index[i], data_teste['tend_medias'][i])\n",
        "    a = 250\n",
        "  percentual.append(a)\n",
        "\n",
        "data_teste['percentual'] = percentual\n",
        "data_aux['percentual'] = percentual\n",
        "\n",
        "\n",
        "\n"
      ],
      "metadata": {
        "id": "PkPVw9UtuYw2"
      },
      "execution_count": 14,
      "outputs": []
    },
    {
      "cell_type": "code",
      "source": [
        "#COM validacao do sinal\n",
        "padroes = ['Harami_fundo',  'Harami_topo', 'J_alta', 'J_baixa', 'Eng_alta', 'Eng_baixa']\n",
        "resultados = []\n",
        "for i in range(len(padroes)):\n",
        "  resultados = [padroes[i]]\n",
        "  #FP -- qtas vezes o padrão foi formado\n",
        "  mask0 = (data_teste.index >  '2010-01-01') & (data_teste.index <  '2021-12-31')& ( data_teste[padroes[i]] =='sim')\n",
        "  filtered_df = data_teste[mask0]\n",
        "  resultados.append(filtered_df.iloc[: ,19:].shape[0])\n",
        "\n",
        "  #VP -- qtas vezes o padrão foi validado\n",
        "  mask1 = (data_teste.index >  '2010-01-01') & (data_teste.index <  '2021-12-31') & ( data_teste[padroes[i]] =='sim')  & (data_teste['sinal confirmado'] != '') \n",
        "  filtered_df = data_teste[mask1]\n",
        "  resultados.append(filtered_df.iloc[: ,19:].shape[0])\n",
        "\n",
        "  #AM -- qtas vezes foi atingida a meta de 1% de valorização após o padrão validado\n",
        "  mask2 = (data_teste.index >  '2010-01-01') & (data_teste.index <  '2021-12-31') & ( data_teste[padroes[i]] =='sim')  & (data_teste['sinal confirmado'] != '') & (data_teste['percentual'] > 1) & (data_teste['percentual'] < 250)\n",
        "  filtered_df = data_teste[mask2]\n",
        "  resultados.append(filtered_df.iloc[: ,19:].shape[0])\n",
        "\n",
        "  #EF -- eficiencia\n",
        "  try: \n",
        "    resultados[3] *100/resultados[2]\n",
        "    resultados.append(resultados[3] *100/resultados[2])\n",
        "  except:\n",
        "    resultados.append(0)\n",
        "\n",
        "  print(resultados)"
      ],
      "metadata": {
        "colab": {
          "base_uri": "https://localhost:8080/"
        },
        "id": "24hf9FN1WcCP",
        "outputId": "6bb3cdfa-0911-45b2-ecb1-44eed2a33705"
      },
      "execution_count": 17,
      "outputs": [
        {
          "output_type": "stream",
          "name": "stdout",
          "text": [
            "['Harami_fundo', 187, 7, 5, 71.42857142857143]\n",
            "['Harami_topo', 108, 2, 2, 100.0]\n",
            "['J_alta', 34, 10, 10, 100.0]\n",
            "['J_baixa', 824, 64, 59, 92.1875]\n",
            "['Eng_alta', 64, 8, 8, 100.0]\n",
            "['Eng_baixa', 78, 5, 4, 80.0]\n"
          ]
        }
      ]
    },
    {
      "cell_type": "code",
      "source": [
        "#sem validacao do sinal\n",
        "padroes = ['Harami_fundo',  'Harami_topo', 'J_alta', 'J_baixa', 'Eng_alta', 'Eng_baixa']\n",
        "resultados = []\n",
        "for i in range(len(padroes)):\n",
        "  resultados = [padroes[i]]\n",
        "  #FP\n",
        "  #mask0 = (data_teste.index >  '2020-01-01') & (data_teste.index <  '2021-12-31')& ( data_teste[padroes[i]] =='sim')\n",
        "  mask0 = (data_teste.index >  '2010-01-01') & (data_teste.index <  '2021-12-31')& ( data_teste[padroes[i]] =='sim')\n",
        "  filtered_df = data_teste[mask0]\n",
        "  resultados.append(filtered_df.iloc[: ,19:].shape[0])\n",
        "  \n",
        "  #AM\n",
        "  mask2 = (data_teste.index >  '2010-01-01') & (data_teste.index <  '2021-12-31') & ( data_teste[padroes[i]] =='sim')  & (data_teste['percentual'] > 1) & (data_teste['percentual'] < 250)\n",
        "  filtered_df = data_teste[mask2]\n",
        "  resultados.append(filtered_df.iloc[: ,19:].shape[0])\n",
        "\n",
        "  #EF\n",
        "  resultados.append(resultados[2] *100/resultados[1])\n",
        "\n",
        "  print(resultados)"
      ],
      "metadata": {
        "colab": {
          "base_uri": "https://localhost:8080/"
        },
        "id": "CIr4M9jXSgVB",
        "outputId": "b0b6fd37-b1ad-456d-f967-3b5c83fa4d02"
      },
      "execution_count": 18,
      "outputs": [
        {
          "output_type": "stream",
          "name": "stdout",
          "text": [
            "['Harami_fundo', 187, 48, 25.668449197860962]\n",
            "['Harami_topo', 108, 24, 22.22222222222222]\n",
            "['J_alta', 34, 16, 47.05882352941177]\n",
            "['J_baixa', 824, 154, 18.689320388349515]\n",
            "['Eng_alta', 64, 16, 25.0]\n",
            "['Eng_baixa', 78, 19, 24.358974358974358]\n"
          ]
        }
      ]
    }
  ]
}